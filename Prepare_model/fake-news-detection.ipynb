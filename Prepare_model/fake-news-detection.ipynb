{
 "cells": [
  {
   "cell_type": "markdown",
   "id": "aaec785e",
   "metadata": {
    "papermill": {
     "duration": 0.009121,
     "end_time": "2024-07-28T15:06:55.055066",
     "exception": false,
     "start_time": "2024-07-28T15:06:55.045945",
     "status": "completed"
    },
    "tags": []
   },
   "source": [
    "# Fake News detection"
   ]
  },
  {
   "cell_type": "markdown",
   "id": "398746d4",
   "metadata": {
    "papermill": {
     "duration": 0.008394,
     "end_time": "2024-07-28T15:06:55.072847",
     "exception": false,
     "start_time": "2024-07-28T15:06:55.064453",
     "status": "completed"
    },
    "tags": []
   },
   "source": [
    "# Fake News Classification Project\n",
    "\n",
    "## Overview\n",
    "This notebook demonstrates the process of building a machine learning model to classify news articles as fake or real. The dataset used in this project consists of articles with titles, text, authors, and labels indicating whether the news is fake or real. The project involves data preprocessing, text preprocessing (stemming), feature extraction using TF-IDF vectorization, model training, evaluation, and saving the best-performing model and vectorizer.\n",
    "\n",
    "## Dataset\n",
    "- `id`: Unique identifier for each article\n",
    "- `title`: The title of the article\n",
    "- `author`: The author of the article\n",
    "- `text`: The main text of the article\n",
    "- `label`: The label indicating whether the news is fake (1) or real (0)\n",
    "\n",
    "## Steps Involved\n",
    "1. **Data Preprocessing**:\n",
    "   - Handling missing values\n",
    "   - Combining `title` and `text` columns into a single `content` column\n",
    "   - Dropping less important columns\n",
    "\n",
    "2. **Text Preprocessing**:\n",
    "   - Stemming: Reducing words to their root form to standardize the text\n",
    "\n",
    "3. **Feature Extraction**:\n",
    "   - Using `TfidfVectorizer` to convert text data into numerical features\n",
    "\n",
    "4. **Model Training and Evaluation**:\n",
    "   - Training multiple classifiers: Logistic Regression, Random Forest, Linear SVC, Decision Tree, and Gradient Boosting\n",
    "   - Evaluating model performance using accuracy, confusion matrix, and classification report\n",
    "\n",
    "5. **Model Saving**:\n",
    "   - Saving the best-performing model and the vectorizer for future use"
   ]
  },
  {
   "cell_type": "code",
   "execution_count": 1,
   "id": "bac208df",
   "metadata": {
    "execution": {
     "iopub.execute_input": "2024-07-28T15:06:55.092664Z",
     "iopub.status.busy": "2024-07-28T15:06:55.092308Z",
     "iopub.status.idle": "2024-07-28T15:06:58.021058Z",
     "shell.execute_reply": "2024-07-28T15:06:58.020056Z"
    },
    "papermill": {
     "duration": 2.942123,
     "end_time": "2024-07-28T15:06:58.023745",
     "exception": false,
     "start_time": "2024-07-28T15:06:55.081622",
     "status": "completed"
    },
    "tags": []
   },
   "outputs": [],
   "source": [
    "# Import dependencies\n",
    "import pandas as pd\n",
    "import numpy as np\n",
    "import matplotlib.pyplot as plt\n",
    "import seaborn as sns\n",
    "import re\n",
    "from copy import deepcopy\n",
    "from nltk.corpus import stopwords\n",
    "from nltk.stem.porter import PorterStemmer\n",
    "from sklearn.feature_extraction.text import TfidfVectorizer\n",
    "from sklearn.model_selection import train_test_split\n",
    "from sklearn.linear_model import LogisticRegression\n",
    "from sklearn.ensemble import RandomForestClassifier\n",
    "from sklearn.ensemble import  GradientBoostingClassifier\n",
    "from sklearn.tree import DecisionTreeClassifier\n",
    "from sklearn.svm import LinearSVC\n",
    "from sklearn.metrics import accuracy_score, confusion_matrix, classification_report\n",
    "import joblib\n",
    "import os"
   ]
  },
  {
   "cell_type": "code",
   "execution_count": 2,
   "id": "57b0fb09",
   "metadata": {
    "execution": {
     "iopub.execute_input": "2024-07-28T15:06:58.043179Z",
     "iopub.status.busy": "2024-07-28T15:06:58.042634Z",
     "iopub.status.idle": "2024-07-28T15:06:58.146537Z",
     "shell.execute_reply": "2024-07-28T15:06:58.145410Z"
    },
    "papermill": {
     "duration": 0.11601,
     "end_time": "2024-07-28T15:06:58.148795",
     "exception": false,
     "start_time": "2024-07-28T15:06:58.032785",
     "status": "completed"
    },
    "tags": []
   },
   "outputs": [
    {
     "name": "stdout",
     "output_type": "stream",
     "text": [
      "[nltk_data] Downloading package stopwords to /usr/share/nltk_data...\n",
      "[nltk_data]   Package stopwords is already up-to-date!\n"
     ]
    },
    {
     "data": {
      "text/plain": [
       "True"
      ]
     },
     "execution_count": 2,
     "metadata": {},
     "output_type": "execute_result"
    }
   ],
   "source": [
    "# Download stopwords from nltk\n",
    "import nltk\n",
    "nltk.download('stopwords')"
   ]
  },
  {
   "cell_type": "code",
   "execution_count": 3,
   "id": "1b4aa7df",
   "metadata": {
    "execution": {
     "iopub.execute_input": "2024-07-28T15:06:58.167817Z",
     "iopub.status.busy": "2024-07-28T15:06:58.167438Z",
     "iopub.status.idle": "2024-07-28T15:06:58.175744Z",
     "shell.execute_reply": "2024-07-28T15:06:58.174787Z"
    },
    "papermill": {
     "duration": 0.020226,
     "end_time": "2024-07-28T15:06:58.177889",
     "exception": false,
     "start_time": "2024-07-28T15:06:58.157663",
     "status": "completed"
    },
    "tags": []
   },
   "outputs": [
    {
     "data": {
      "text/plain": [
       "['i', 'me', 'my', 'myself', 'we', 'our', 'ours', 'ourselves', 'you', \"you're\"]"
      ]
     },
     "execution_count": 3,
     "metadata": {},
     "output_type": "execute_result"
    }
   ],
   "source": [
    "# Check downloaded stopwords in english\n",
    "stopwords.words('english')[:10]"
   ]
  },
  {
   "cell_type": "markdown",
   "id": "e59b08df",
   "metadata": {
    "papermill": {
     "duration": 0.008874,
     "end_time": "2024-07-28T15:06:58.195951",
     "exception": false,
     "start_time": "2024-07-28T15:06:58.187077",
     "status": "completed"
    },
    "tags": []
   },
   "source": [
    "# Load Data"
   ]
  },
  {
   "cell_type": "code",
   "execution_count": 4,
   "id": "cc9da97e",
   "metadata": {
    "execution": {
     "iopub.execute_input": "2024-07-28T15:06:58.216137Z",
     "iopub.status.busy": "2024-07-28T15:06:58.215436Z",
     "iopub.status.idle": "2024-07-28T15:07:02.680744Z",
     "shell.execute_reply": "2024-07-28T15:07:02.679652Z"
    },
    "papermill": {
     "duration": 4.47757,
     "end_time": "2024-07-28T15:07:02.683130",
     "exception": false,
     "start_time": "2024-07-28T15:06:58.205560",
     "status": "completed"
    },
    "tags": []
   },
   "outputs": [
    {
     "data": {
      "text/html": [
       "<div>\n",
       "<style scoped>\n",
       "    .dataframe tbody tr th:only-of-type {\n",
       "        vertical-align: middle;\n",
       "    }\n",
       "\n",
       "    .dataframe tbody tr th {\n",
       "        vertical-align: top;\n",
       "    }\n",
       "\n",
       "    .dataframe thead th {\n",
       "        text-align: right;\n",
       "    }\n",
       "</style>\n",
       "<table border=\"1\" class=\"dataframe\">\n",
       "  <thead>\n",
       "    <tr style=\"text-align: right;\">\n",
       "      <th></th>\n",
       "      <th>id</th>\n",
       "      <th>title</th>\n",
       "      <th>author</th>\n",
       "      <th>text</th>\n",
       "      <th>label</th>\n",
       "    </tr>\n",
       "  </thead>\n",
       "  <tbody>\n",
       "    <tr>\n",
       "      <th>0</th>\n",
       "      <td>0</td>\n",
       "      <td>House Dem Aide: We Didn’t Even See Comey’s Let...</td>\n",
       "      <td>Darrell Lucus</td>\n",
       "      <td>House Dem Aide: We Didn’t Even See Comey’s Let...</td>\n",
       "      <td>1</td>\n",
       "    </tr>\n",
       "    <tr>\n",
       "      <th>1</th>\n",
       "      <td>1</td>\n",
       "      <td>FLYNN: Hillary Clinton, Big Woman on Campus - ...</td>\n",
       "      <td>Daniel J. Flynn</td>\n",
       "      <td>Ever get the feeling your life circles the rou...</td>\n",
       "      <td>0</td>\n",
       "    </tr>\n",
       "    <tr>\n",
       "      <th>2</th>\n",
       "      <td>2</td>\n",
       "      <td>Why the Truth Might Get You Fired</td>\n",
       "      <td>Consortiumnews.com</td>\n",
       "      <td>Why the Truth Might Get You Fired October 29, ...</td>\n",
       "      <td>1</td>\n",
       "    </tr>\n",
       "    <tr>\n",
       "      <th>3</th>\n",
       "      <td>3</td>\n",
       "      <td>15 Civilians Killed In Single US Airstrike Hav...</td>\n",
       "      <td>Jessica Purkiss</td>\n",
       "      <td>Videos 15 Civilians Killed In Single US Airstr...</td>\n",
       "      <td>1</td>\n",
       "    </tr>\n",
       "    <tr>\n",
       "      <th>4</th>\n",
       "      <td>4</td>\n",
       "      <td>Iranian woman jailed for fictional unpublished...</td>\n",
       "      <td>Howard Portnoy</td>\n",
       "      <td>Print \\nAn Iranian woman has been sentenced to...</td>\n",
       "      <td>1</td>\n",
       "    </tr>\n",
       "  </tbody>\n",
       "</table>\n",
       "</div>"
      ],
      "text/plain": [
       "   id                                              title              author  \\\n",
       "0   0  House Dem Aide: We Didn’t Even See Comey’s Let...       Darrell Lucus   \n",
       "1   1  FLYNN: Hillary Clinton, Big Woman on Campus - ...     Daniel J. Flynn   \n",
       "2   2                  Why the Truth Might Get You Fired  Consortiumnews.com   \n",
       "3   3  15 Civilians Killed In Single US Airstrike Hav...     Jessica Purkiss   \n",
       "4   4  Iranian woman jailed for fictional unpublished...      Howard Portnoy   \n",
       "\n",
       "                                                text  label  \n",
       "0  House Dem Aide: We Didn’t Even See Comey’s Let...      1  \n",
       "1  Ever get the feeling your life circles the rou...      0  \n",
       "2  Why the Truth Might Get You Fired October 29, ...      1  \n",
       "3  Videos 15 Civilians Killed In Single US Airstr...      1  \n",
       "4  Print \\nAn Iranian woman has been sentenced to...      1  "
      ]
     },
     "execution_count": 4,
     "metadata": {},
     "output_type": "execute_result"
    }
   ],
   "source": [
    "df_train = pd.read_csv('Prepare_model\\\\train.csv')\n",
    "df_train.head()"
   ]
  },
  {
   "cell_type": "code",
   "execution_count": 5,
   "id": "9decceb9",
   "metadata": {
    "execution": {
     "iopub.execute_input": "2024-07-28T15:07:02.703980Z",
     "iopub.status.busy": "2024-07-28T15:07:02.703596Z",
     "iopub.status.idle": "2024-07-28T15:07:02.709671Z",
     "shell.execute_reply": "2024-07-28T15:07:02.708757Z"
    },
    "papermill": {
     "duration": 0.018772,
     "end_time": "2024-07-28T15:07:02.711772",
     "exception": false,
     "start_time": "2024-07-28T15:07:02.693000",
     "status": "completed"
    },
    "tags": []
   },
   "outputs": [
    {
     "data": {
      "text/plain": [
       "(20800, 5)"
      ]
     },
     "execution_count": 5,
     "metadata": {},
     "output_type": "execute_result"
    }
   ],
   "source": [
    "# Show shape of the dataset\n",
    "df_train.shape"
   ]
  },
  {
   "cell_type": "code",
   "execution_count": 6,
   "id": "fb8bffe3",
   "metadata": {
    "execution": {
     "iopub.execute_input": "2024-07-28T15:07:02.732102Z",
     "iopub.status.busy": "2024-07-28T15:07:02.731756Z",
     "iopub.status.idle": "2024-07-28T15:07:02.758844Z",
     "shell.execute_reply": "2024-07-28T15:07:02.757776Z"
    },
    "papermill": {
     "duration": 0.040083,
     "end_time": "2024-07-28T15:07:02.761312",
     "exception": false,
     "start_time": "2024-07-28T15:07:02.721229",
     "status": "completed"
    },
    "tags": []
   },
   "outputs": [
    {
     "name": "stdout",
     "output_type": "stream",
     "text": [
      "<class 'pandas.core.frame.DataFrame'>\n",
      "RangeIndex: 20800 entries, 0 to 20799\n",
      "Data columns (total 5 columns):\n",
      " #   Column  Non-Null Count  Dtype \n",
      "---  ------  --------------  ----- \n",
      " 0   id      20800 non-null  int64 \n",
      " 1   title   20242 non-null  object\n",
      " 2   author  18843 non-null  object\n",
      " 3   text    20761 non-null  object\n",
      " 4   label   20800 non-null  int64 \n",
      "dtypes: int64(2), object(3)\n",
      "memory usage: 812.6+ KB\n"
     ]
    }
   ],
   "source": [
    "# Show some info about dataset\n",
    "df_train.info()"
   ]
  },
  {
   "cell_type": "markdown",
   "id": "32b1be9f",
   "metadata": {
    "papermill": {
     "duration": 0.009137,
     "end_time": "2024-07-28T15:07:02.780189",
     "exception": false,
     "start_time": "2024-07-28T15:07:02.771052",
     "status": "completed"
    },
    "tags": []
   },
   "source": [
    "# Data Preprocessing"
   ]
  },
  {
   "cell_type": "code",
   "execution_count": 7,
   "id": "be2d817c",
   "metadata": {
    "execution": {
     "iopub.execute_input": "2024-07-28T15:07:02.801261Z",
     "iopub.status.busy": "2024-07-28T15:07:02.800357Z",
     "iopub.status.idle": "2024-07-28T15:07:02.806800Z",
     "shell.execute_reply": "2024-07-28T15:07:02.805828Z"
    },
    "papermill": {
     "duration": 0.01914,
     "end_time": "2024-07-28T15:07:02.808781",
     "exception": false,
     "start_time": "2024-07-28T15:07:02.789641",
     "status": "completed"
    },
    "tags": []
   },
   "outputs": [],
   "source": [
    "# Take a copy from original training data\n",
    "df_train_proc = deepcopy(df_train)"
   ]
  },
  {
   "cell_type": "markdown",
   "id": "6834b9ca",
   "metadata": {
    "papermill": {
     "duration": 0.009213,
     "end_time": "2024-07-28T15:07:02.827523",
     "exception": false,
     "start_time": "2024-07-28T15:07:02.818310",
     "status": "completed"
    },
    "tags": []
   },
   "source": [
    "## Hanlding missing values"
   ]
  },
  {
   "cell_type": "code",
   "execution_count": 8,
   "id": "3041bdad",
   "metadata": {
    "execution": {
     "iopub.execute_input": "2024-07-28T15:07:02.848830Z",
     "iopub.status.busy": "2024-07-28T15:07:02.847679Z",
     "iopub.status.idle": "2024-07-28T15:07:02.861866Z",
     "shell.execute_reply": "2024-07-28T15:07:02.860768Z"
    },
    "papermill": {
     "duration": 0.027114,
     "end_time": "2024-07-28T15:07:02.864189",
     "exception": false,
     "start_time": "2024-07-28T15:07:02.837075",
     "status": "completed"
    },
    "tags": []
   },
   "outputs": [
    {
     "data": {
      "text/plain": [
       "id           0\n",
       "title      558\n",
       "author    1957\n",
       "text        39\n",
       "label        0\n",
       "dtype: int64"
      ]
     },
     "execution_count": 8,
     "metadata": {},
     "output_type": "execute_result"
    }
   ],
   "source": [
    "# Check about missing values to decide if we will make handling for it or not\n",
    "df_train_proc.isnull().sum()"
   ]
  },
  {
   "cell_type": "code",
   "execution_count": 9,
   "id": "154adeac",
   "metadata": {
    "execution": {
     "iopub.execute_input": "2024-07-28T15:07:02.885413Z",
     "iopub.status.busy": "2024-07-28T15:07:02.884700Z",
     "iopub.status.idle": "2024-07-28T15:07:02.904781Z",
     "shell.execute_reply": "2024-07-28T15:07:02.903731Z"
    },
    "papermill": {
     "duration": 0.032911,
     "end_time": "2024-07-28T15:07:02.906778",
     "exception": false,
     "start_time": "2024-07-28T15:07:02.873867",
     "status": "completed"
    },
    "tags": []
   },
   "outputs": [
    {
     "data": {
      "text/plain": [
       "(20203, 5)"
      ]
     },
     "execution_count": 9,
     "metadata": {},
     "output_type": "execute_result"
    }
   ],
   "source": [
    "# Drop rows that contain at least one none value based on the title and text columns\n",
    "df_train_proc = df_train_proc.dropna(subset=['title', 'text'])\n",
    "df_train_proc.shape"
   ]
  },
  {
   "cell_type": "code",
   "execution_count": 10,
   "id": "c45f66fc",
   "metadata": {
    "execution": {
     "iopub.execute_input": "2024-07-28T15:07:02.928280Z",
     "iopub.status.busy": "2024-07-28T15:07:02.927352Z",
     "iopub.status.idle": "2024-07-28T15:07:02.941376Z",
     "shell.execute_reply": "2024-07-28T15:07:02.940345Z"
    },
    "papermill": {
     "duration": 0.027057,
     "end_time": "2024-07-28T15:07:02.943498",
     "exception": false,
     "start_time": "2024-07-28T15:07:02.916441",
     "status": "completed"
    },
    "tags": []
   },
   "outputs": [
    {
     "data": {
      "text/plain": [
       "id           0\n",
       "title        0\n",
       "author    1918\n",
       "text         0\n",
       "label        0\n",
       "dtype: int64"
      ]
     },
     "execution_count": 10,
     "metadata": {},
     "output_type": "execute_result"
    }
   ],
   "source": [
    "# Check about none values after handling missing values\n",
    "df_train_proc.isnull().sum()"
   ]
  },
  {
   "cell_type": "markdown",
   "id": "5ac6b53c",
   "metadata": {
    "papermill": {
     "duration": 0.009669,
     "end_time": "2024-07-28T15:07:02.963080",
     "exception": false,
     "start_time": "2024-07-28T15:07:02.953411",
     "status": "completed"
    },
    "tags": []
   },
   "source": [
    "## Handling invalid data"
   ]
  },
  {
   "cell_type": "code",
   "execution_count": 11,
   "id": "125b642f",
   "metadata": {
    "execution": {
     "iopub.execute_input": "2024-07-28T15:07:02.984246Z",
     "iopub.status.busy": "2024-07-28T15:07:02.983862Z",
     "iopub.status.idle": "2024-07-28T15:07:03.163895Z",
     "shell.execute_reply": "2024-07-28T15:07:03.162754Z"
    },
    "papermill": {
     "duration": 0.193252,
     "end_time": "2024-07-28T15:07:03.166191",
     "exception": false,
     "start_time": "2024-07-28T15:07:02.972939",
     "status": "completed"
    },
    "tags": []
   },
   "outputs": [
    {
     "data": {
      "text/html": [
       "<div>\n",
       "<style scoped>\n",
       "    .dataframe tbody tr th:only-of-type {\n",
       "        vertical-align: middle;\n",
       "    }\n",
       "\n",
       "    .dataframe tbody tr th {\n",
       "        vertical-align: top;\n",
       "    }\n",
       "\n",
       "    .dataframe thead th {\n",
       "        text-align: right;\n",
       "    }\n",
       "</style>\n",
       "<table border=\"1\" class=\"dataframe\">\n",
       "  <thead>\n",
       "    <tr style=\"text-align: right;\">\n",
       "      <th></th>\n",
       "      <th>id</th>\n",
       "      <th>title</th>\n",
       "      <th>author</th>\n",
       "      <th>text</th>\n",
       "      <th>label</th>\n",
       "      <th>content</th>\n",
       "    </tr>\n",
       "  </thead>\n",
       "  <tbody>\n",
       "    <tr>\n",
       "      <th>0</th>\n",
       "      <td>0</td>\n",
       "      <td>House Dem Aide: We Didn’t Even See Comey’s Let...</td>\n",
       "      <td>Darrell Lucus</td>\n",
       "      <td>House Dem Aide: We Didn’t Even See Comey’s Let...</td>\n",
       "      <td>1</td>\n",
       "      <td>House Dem Aide: We Didn’t Even See Comey’s Let...</td>\n",
       "    </tr>\n",
       "    <tr>\n",
       "      <th>1</th>\n",
       "      <td>1</td>\n",
       "      <td>FLYNN: Hillary Clinton, Big Woman on Campus - ...</td>\n",
       "      <td>Daniel J. Flynn</td>\n",
       "      <td>Ever get the feeling your life circles the rou...</td>\n",
       "      <td>0</td>\n",
       "      <td>FLYNN: Hillary Clinton, Big Woman on Campus - ...</td>\n",
       "    </tr>\n",
       "    <tr>\n",
       "      <th>2</th>\n",
       "      <td>2</td>\n",
       "      <td>Why the Truth Might Get You Fired</td>\n",
       "      <td>Consortiumnews.com</td>\n",
       "      <td>Why the Truth Might Get You Fired October 29, ...</td>\n",
       "      <td>1</td>\n",
       "      <td>Why the Truth Might Get You Fired: Why the Tru...</td>\n",
       "    </tr>\n",
       "    <tr>\n",
       "      <th>3</th>\n",
       "      <td>3</td>\n",
       "      <td>15 Civilians Killed In Single US Airstrike Hav...</td>\n",
       "      <td>Jessica Purkiss</td>\n",
       "      <td>Videos 15 Civilians Killed In Single US Airstr...</td>\n",
       "      <td>1</td>\n",
       "      <td>15 Civilians Killed In Single US Airstrike Hav...</td>\n",
       "    </tr>\n",
       "    <tr>\n",
       "      <th>4</th>\n",
       "      <td>4</td>\n",
       "      <td>Iranian woman jailed for fictional unpublished...</td>\n",
       "      <td>Howard Portnoy</td>\n",
       "      <td>Print \\nAn Iranian woman has been sentenced to...</td>\n",
       "      <td>1</td>\n",
       "      <td>Iranian woman jailed for fictional unpublished...</td>\n",
       "    </tr>\n",
       "  </tbody>\n",
       "</table>\n",
       "</div>"
      ],
      "text/plain": [
       "   id                                              title              author  \\\n",
       "0   0  House Dem Aide: We Didn’t Even See Comey’s Let...       Darrell Lucus   \n",
       "1   1  FLYNN: Hillary Clinton, Big Woman on Campus - ...     Daniel J. Flynn   \n",
       "2   2                  Why the Truth Might Get You Fired  Consortiumnews.com   \n",
       "3   3  15 Civilians Killed In Single US Airstrike Hav...     Jessica Purkiss   \n",
       "4   4  Iranian woman jailed for fictional unpublished...      Howard Portnoy   \n",
       "\n",
       "                                                text  label  \\\n",
       "0  House Dem Aide: We Didn’t Even See Comey’s Let...      1   \n",
       "1  Ever get the feeling your life circles the rou...      0   \n",
       "2  Why the Truth Might Get You Fired October 29, ...      1   \n",
       "3  Videos 15 Civilians Killed In Single US Airstr...      1   \n",
       "4  Print \\nAn Iranian woman has been sentenced to...      1   \n",
       "\n",
       "                                             content  \n",
       "0  House Dem Aide: We Didn’t Even See Comey’s Let...  \n",
       "1  FLYNN: Hillary Clinton, Big Woman on Campus - ...  \n",
       "2  Why the Truth Might Get You Fired: Why the Tru...  \n",
       "3  15 Civilians Killed In Single US Airstrike Hav...  \n",
       "4  Iranian woman jailed for fictional unpublished...  "
      ]
     },
     "execution_count": 11,
     "metadata": {},
     "output_type": "execute_result"
    }
   ],
   "source": [
    "# Combine title and text columns into one column and their contents separated by colon\n",
    "df_train_proc['content'] = df_train_proc['title'] + ': ' + df_train_proc['text']\n",
    "df_train_proc.head()"
   ]
  },
  {
   "cell_type": "code",
   "execution_count": 12,
   "id": "10f6a106",
   "metadata": {
    "execution": {
     "iopub.execute_input": "2024-07-28T15:07:03.188921Z",
     "iopub.status.busy": "2024-07-28T15:07:03.188524Z",
     "iopub.status.idle": "2024-07-28T15:07:03.203786Z",
     "shell.execute_reply": "2024-07-28T15:07:03.202795Z"
    },
    "papermill": {
     "duration": 0.029391,
     "end_time": "2024-07-28T15:07:03.205939",
     "exception": false,
     "start_time": "2024-07-28T15:07:03.176548",
     "status": "completed"
    },
    "tags": []
   },
   "outputs": [
    {
     "data": {
      "text/html": [
       "<div>\n",
       "<style scoped>\n",
       "    .dataframe tbody tr th:only-of-type {\n",
       "        vertical-align: middle;\n",
       "    }\n",
       "\n",
       "    .dataframe tbody tr th {\n",
       "        vertical-align: top;\n",
       "    }\n",
       "\n",
       "    .dataframe thead th {\n",
       "        text-align: right;\n",
       "    }\n",
       "</style>\n",
       "<table border=\"1\" class=\"dataframe\">\n",
       "  <thead>\n",
       "    <tr style=\"text-align: right;\">\n",
       "      <th></th>\n",
       "      <th>id</th>\n",
       "      <th>title</th>\n",
       "      <th>text</th>\n",
       "      <th>label</th>\n",
       "      <th>content</th>\n",
       "    </tr>\n",
       "  </thead>\n",
       "  <tbody>\n",
       "    <tr>\n",
       "      <th>0</th>\n",
       "      <td>0</td>\n",
       "      <td>House Dem Aide: We Didn’t Even See Comey’s Let...</td>\n",
       "      <td>House Dem Aide: We Didn’t Even See Comey’s Let...</td>\n",
       "      <td>1</td>\n",
       "      <td>House Dem Aide: We Didn’t Even See Comey’s Let...</td>\n",
       "    </tr>\n",
       "    <tr>\n",
       "      <th>1</th>\n",
       "      <td>1</td>\n",
       "      <td>FLYNN: Hillary Clinton, Big Woman on Campus - ...</td>\n",
       "      <td>Ever get the feeling your life circles the rou...</td>\n",
       "      <td>0</td>\n",
       "      <td>FLYNN: Hillary Clinton, Big Woman on Campus - ...</td>\n",
       "    </tr>\n",
       "    <tr>\n",
       "      <th>2</th>\n",
       "      <td>2</td>\n",
       "      <td>Why the Truth Might Get You Fired</td>\n",
       "      <td>Why the Truth Might Get You Fired October 29, ...</td>\n",
       "      <td>1</td>\n",
       "      <td>Why the Truth Might Get You Fired: Why the Tru...</td>\n",
       "    </tr>\n",
       "    <tr>\n",
       "      <th>3</th>\n",
       "      <td>3</td>\n",
       "      <td>15 Civilians Killed In Single US Airstrike Hav...</td>\n",
       "      <td>Videos 15 Civilians Killed In Single US Airstr...</td>\n",
       "      <td>1</td>\n",
       "      <td>15 Civilians Killed In Single US Airstrike Hav...</td>\n",
       "    </tr>\n",
       "    <tr>\n",
       "      <th>4</th>\n",
       "      <td>4</td>\n",
       "      <td>Iranian woman jailed for fictional unpublished...</td>\n",
       "      <td>Print \\nAn Iranian woman has been sentenced to...</td>\n",
       "      <td>1</td>\n",
       "      <td>Iranian woman jailed for fictional unpublished...</td>\n",
       "    </tr>\n",
       "  </tbody>\n",
       "</table>\n",
       "</div>"
      ],
      "text/plain": [
       "   id                                              title  \\\n",
       "0   0  House Dem Aide: We Didn’t Even See Comey’s Let...   \n",
       "1   1  FLYNN: Hillary Clinton, Big Woman on Campus - ...   \n",
       "2   2                  Why the Truth Might Get You Fired   \n",
       "3   3  15 Civilians Killed In Single US Airstrike Hav...   \n",
       "4   4  Iranian woman jailed for fictional unpublished...   \n",
       "\n",
       "                                                text  label  \\\n",
       "0  House Dem Aide: We Didn’t Even See Comey’s Let...      1   \n",
       "1  Ever get the feeling your life circles the rou...      0   \n",
       "2  Why the Truth Might Get You Fired October 29, ...      1   \n",
       "3  Videos 15 Civilians Killed In Single US Airstr...      1   \n",
       "4  Print \\nAn Iranian woman has been sentenced to...      1   \n",
       "\n",
       "                                             content  \n",
       "0  House Dem Aide: We Didn’t Even See Comey’s Let...  \n",
       "1  FLYNN: Hillary Clinton, Big Woman on Campus - ...  \n",
       "2  Why the Truth Might Get You Fired: Why the Tru...  \n",
       "3  15 Civilians Killed In Single US Airstrike Hav...  \n",
       "4  Iranian woman jailed for fictional unpublished...  "
      ]
     },
     "execution_count": 12,
     "metadata": {},
     "output_type": "execute_result"
    }
   ],
   "source": [
    "# Drop author column from dataset because it's less important to the predition process\n",
    "df_train_proc = df_train_proc.drop(columns = ['author'])\n",
    "df_train_proc.head()"
   ]
  },
  {
   "cell_type": "code",
   "execution_count": 13,
   "id": "08b0aa2b",
   "metadata": {
    "execution": {
     "iopub.execute_input": "2024-07-28T15:07:03.227649Z",
     "iopub.status.busy": "2024-07-28T15:07:03.227316Z",
     "iopub.status.idle": "2024-07-28T15:07:03.452780Z",
     "shell.execute_reply": "2024-07-28T15:07:03.451761Z"
    },
    "papermill": {
     "duration": 0.238753,
     "end_time": "2024-07-28T15:07:03.454932",
     "exception": false,
     "start_time": "2024-07-28T15:07:03.216179",
     "status": "completed"
    },
    "tags": []
   },
   "outputs": [
    {
     "name": "stdout",
     "output_type": "stream",
     "text": [
      "label\n",
      "0    10387\n",
      "1     9816\n",
      "Name: count, dtype: int64\n"
     ]
    },
    {
     "data": {
      "image/png": "[encoded data removed]",
      "text/plain": [
       "<Figure size 640x480 with 1 Axes>"
      ]
     },
     "metadata": {},
     "output_type": "display_data"
    }
   ],
   "source": [
    "# Visualize label values to check about balancing of 0's and 1's\n",
    "counts = df_train_proc['label'].value_counts()\n",
    "print(counts)\n",
    "\n",
    "# Plot result of each group\n",
    "plt.bar(counts.index, counts)\n",
    "plt.show()"
   ]
  },
  {
   "cell_type": "code",
   "execution_count": 14,
   "id": "2ebe94bb",
   "metadata": {
    "execution": {
     "iopub.execute_input": "2024-07-28T15:07:03.477891Z",
     "iopub.status.busy": "2024-07-28T15:07:03.477508Z",
     "iopub.status.idle": "2024-07-28T15:07:03.489358Z",
     "shell.execute_reply": "2024-07-28T15:07:03.488413Z"
    },
    "papermill": {
     "duration": 0.0258,
     "end_time": "2024-07-28T15:07:03.491471",
     "exception": false,
     "start_time": "2024-07-28T15:07:03.465671",
     "status": "completed"
    },
    "tags": []
   },
   "outputs": [
    {
     "data": {
      "text/html": [
       "<div>\n",
       "<style scoped>\n",
       "    .dataframe tbody tr th:only-of-type {\n",
       "        vertical-align: middle;\n",
       "    }\n",
       "\n",
       "    .dataframe tbody tr th {\n",
       "        vertical-align: top;\n",
       "    }\n",
       "\n",
       "    .dataframe thead th {\n",
       "        text-align: right;\n",
       "    }\n",
       "</style>\n",
       "<table border=\"1\" class=\"dataframe\">\n",
       "  <thead>\n",
       "    <tr style=\"text-align: right;\">\n",
       "      <th></th>\n",
       "      <th>content</th>\n",
       "      <th>label</th>\n",
       "    </tr>\n",
       "  </thead>\n",
       "  <tbody>\n",
       "    <tr>\n",
       "      <th>0</th>\n",
       "      <td>House Dem Aide: We Didn’t Even See Comey’s Let...</td>\n",
       "      <td>1</td>\n",
       "    </tr>\n",
       "    <tr>\n",
       "      <th>1</th>\n",
       "      <td>FLYNN: Hillary Clinton, Big Woman on Campus - ...</td>\n",
       "      <td>0</td>\n",
       "    </tr>\n",
       "    <tr>\n",
       "      <th>2</th>\n",
       "      <td>Why the Truth Might Get You Fired: Why the Tru...</td>\n",
       "      <td>1</td>\n",
       "    </tr>\n",
       "    <tr>\n",
       "      <th>3</th>\n",
       "      <td>15 Civilians Killed In Single US Airstrike Hav...</td>\n",
       "      <td>1</td>\n",
       "    </tr>\n",
       "    <tr>\n",
       "      <th>4</th>\n",
       "      <td>Iranian woman jailed for fictional unpublished...</td>\n",
       "      <td>1</td>\n",
       "    </tr>\n",
       "  </tbody>\n",
       "</table>\n",
       "</div>"
      ],
      "text/plain": [
       "                                             content  label\n",
       "0  House Dem Aide: We Didn’t Even See Comey’s Let...      1\n",
       "1  FLYNN: Hillary Clinton, Big Woman on Campus - ...      0\n",
       "2  Why the Truth Might Get You Fired: Why the Tru...      1\n",
       "3  15 Civilians Killed In Single US Airstrike Hav...      1\n",
       "4  Iranian woman jailed for fictional unpublished...      1"
      ]
     },
     "execution_count": 14,
     "metadata": {},
     "output_type": "execute_result"
    }
   ],
   "source": [
    "# Show data input and label data after the preporcessing step has been finihsed\n",
    "df_train_proc[['content', 'label']].head()"
   ]
  },
  {
   "cell_type": "markdown",
   "id": "b8dd8bad",
   "metadata": {
    "papermill": {
     "duration": 0.010314,
     "end_time": "2024-07-28T15:07:03.512645",
     "exception": false,
     "start_time": "2024-07-28T15:07:03.502331",
     "status": "completed"
    },
    "tags": []
   },
   "source": [
    "## Split data into input and output data"
   ]
  },
  {
   "cell_type": "code",
   "execution_count": 15,
   "id": "7a78f5a1",
   "metadata": {
    "execution": {
     "iopub.execute_input": "2024-07-28T15:07:03.535985Z",
     "iopub.status.busy": "2024-07-28T15:07:03.535192Z",
     "iopub.status.idle": "2024-07-28T15:07:03.540951Z",
     "shell.execute_reply": "2024-07-28T15:07:03.539962Z"
    },
    "papermill": {
     "duration": 0.019656,
     "end_time": "2024-07-28T15:07:03.543033",
     "exception": false,
     "start_time": "2024-07-28T15:07:03.523377",
     "status": "completed"
    },
    "tags": []
   },
   "outputs": [
    {
     "name": "stdout",
     "output_type": "stream",
     "text": [
      "X shape (20203,), Y shape (20203,)\n"
     ]
    }
   ],
   "source": [
    "# Split data into input and label data\n",
    "X = df_train_proc['content']\n",
    "Y = df_train_proc['label']\n",
    "print(f'X shape {X.shape}, Y shape {Y.shape}')"
   ]
  },
  {
   "cell_type": "markdown",
   "id": "f8bd048e",
   "metadata": {
    "papermill": {
     "duration": 0.010665,
     "end_time": "2024-07-28T15:07:03.564659",
     "exception": false,
     "start_time": "2024-07-28T15:07:03.553994",
     "status": "completed"
    },
    "tags": []
   },
   "source": [
    "## Stemming data\n",
    "\n",
    "*stemming process: text preprocessing technique used in natural language processing (NLP) to reduce words to their root or base form. The main goal of stemming is to group together different forms of a word so they can be analyzed as a single item. This is especially useful in tasks like information retrieval and text mining.*"
   ]
  },
  {
   "cell_type": "code",
   "execution_count": 16,
   "id": "b338589d",
   "metadata": {
    "execution": {
     "iopub.execute_input": "2024-07-28T15:07:03.588528Z",
     "iopub.status.busy": "2024-07-28T15:07:03.587579Z",
     "iopub.status.idle": "2024-07-28T15:07:03.592446Z",
     "shell.execute_reply": "2024-07-28T15:07:03.591556Z"
    },
    "papermill": {
     "duration": 0.019036,
     "end_time": "2024-07-28T15:07:03.594646",
     "exception": false,
     "start_time": "2024-07-28T15:07:03.575610",
     "status": "completed"
    },
    "tags": []
   },
   "outputs": [],
   "source": [
    "# Create porter stemmer to stemming data\n",
    "stemmer = PorterStemmer()"
   ]
  },
  {
   "cell_type": "code",
   "execution_count": 17,
   "id": "7b057ecf",
   "metadata": {
    "execution": {
     "iopub.execute_input": "2024-07-28T15:07:03.618351Z",
     "iopub.status.busy": "2024-07-28T15:07:03.617961Z",
     "iopub.status.idle": "2024-07-28T15:07:03.624743Z",
     "shell.execute_reply": "2024-07-28T15:07:03.623607Z"
    },
    "papermill": {
     "duration": 0.021012,
     "end_time": "2024-07-28T15:07:03.626809",
     "exception": false,
     "start_time": "2024-07-28T15:07:03.605797",
     "status": "completed"
    },
    "tags": []
   },
   "outputs": [],
   "source": [
    "# Create function to stem all words in the content\n",
    "def stemming(content, stemmer):\n",
    "    # Work on the alphabetical words only\n",
    "    stemmed_content = re.sub('[^a-zA-Z]', ' ', content)\n",
    "    \n",
    "    # Convert sentences into lower case sentences\n",
    "    stemmed_content = stemmed_content.lower()\n",
    "    # Split sentences into words\n",
    "    stemmed_content = stemmed_content.split()\n",
    "    \n",
    "    # Get English stopwords\n",
    "    stop_words = set(stopwords.words('english'))\n",
    "    # Stem words\n",
    "    stemmed_content = [stemmer.stem(word) for word in stemmed_content if word not in stop_words]\n",
    "    # Join words again\n",
    "    stemmed_content = ' '.join(stemmed_content)\n",
    "    \n",
    "    return stemmed_content"
   ]
  },
  {
   "cell_type": "code",
   "execution_count": 18,
   "id": "2301303c",
   "metadata": {
    "execution": {
     "iopub.execute_input": "2024-07-28T15:07:03.650734Z",
     "iopub.status.busy": "2024-07-28T15:07:03.650069Z",
     "iopub.status.idle": "2024-07-28T15:07:03.657945Z",
     "shell.execute_reply": "2024-07-28T15:07:03.656811Z"
    },
    "papermill": {
     "duration": 0.022116,
     "end_time": "2024-07-28T15:07:03.660103",
     "exception": false,
     "start_time": "2024-07-28T15:07:03.637987",
     "status": "completed"
    },
    "tags": []
   },
   "outputs": [
    {
     "data": {
      "text/plain": [
       "0    House Dem Aide: We Didn’t Even See Comey’s Let...\n",
       "1    FLYNN: Hillary Clinton, Big Woman on Campus - ...\n",
       "2    Why the Truth Might Get You Fired: Why the Tru...\n",
       "3    15 Civilians Killed In Single US Airstrike Hav...\n",
       "4    Iranian woman jailed for fictional unpublished...\n",
       "Name: content, dtype: object"
      ]
     },
     "execution_count": 18,
     "metadata": {},
     "output_type": "execute_result"
    }
   ],
   "source": [
    "# Shwo the input data before stemming\n",
    "X.head()"
   ]
  },
  {
   "cell_type": "code",
   "execution_count": 19,
   "id": "e905ddab",
   "metadata": {
    "execution": {
     "iopub.execute_input": "2024-07-28T15:07:03.684283Z",
     "iopub.status.busy": "2024-07-28T15:07:03.683573Z",
     "iopub.status.idle": "2024-07-28T15:11:12.362151Z",
     "shell.execute_reply": "2024-07-28T15:11:12.361063Z"
    },
    "papermill": {
     "duration": 248.69329,
     "end_time": "2024-07-28T15:11:12.364619",
     "exception": false,
     "start_time": "2024-07-28T15:07:03.671329",
     "status": "completed"
    },
    "tags": []
   },
   "outputs": [],
   "source": [
    "# Apply stemmer on the input data\n",
    "X_stemmed = X.apply(lambda x: stemming(x, stemmer))"
   ]
  },
  {
   "cell_type": "code",
   "execution_count": 20,
   "id": "631572d9",
   "metadata": {
    "execution": {
     "iopub.execute_input": "2024-07-28T15:11:12.388810Z",
     "iopub.status.busy": "2024-07-28T15:11:12.388420Z",
     "iopub.status.idle": "2024-07-28T15:11:12.395980Z",
     "shell.execute_reply": "2024-07-28T15:11:12.394947Z"
    },
    "papermill": {
     "duration": 0.022136,
     "end_time": "2024-07-28T15:11:12.398210",
     "exception": false,
     "start_time": "2024-07-28T15:11:12.376074",
     "status": "completed"
    },
    "tags": []
   },
   "outputs": [
    {
     "data": {
      "text/plain": [
       "0    hous dem aid even see comey letter jason chaff...\n",
       "1    flynn hillari clinton big woman campu breitbar...\n",
       "2    truth might get fire truth might get fire octo...\n",
       "3    civilian kill singl us airstrik identifi video...\n",
       "4    iranian woman jail fiction unpublish stori wom...\n",
       "Name: content, dtype: object"
      ]
     },
     "execution_count": 20,
     "metadata": {},
     "output_type": "execute_result"
    }
   ],
   "source": [
    "# Shwo the input data after stemming\n",
    "X_stemmed.head()"
   ]
  },
  {
   "cell_type": "code",
   "execution_count": 21,
   "id": "7a412ff1",
   "metadata": {
    "execution": {
     "iopub.execute_input": "2024-07-28T15:11:12.421811Z",
     "iopub.status.busy": "2024-07-28T15:11:12.421409Z",
     "iopub.status.idle": "2024-07-28T15:11:12.433326Z",
     "shell.execute_reply": "2024-07-28T15:11:12.432212Z"
    },
    "papermill": {
     "duration": 0.026159,
     "end_time": "2024-07-28T15:11:12.435441",
     "exception": false,
     "start_time": "2024-07-28T15:11:12.409282",
     "status": "completed"
    },
    "tags": []
   },
   "outputs": [
    {
     "name": "stdout",
     "output_type": "stream",
     "text": [
      "x train shape (2020,), x test shape (18183,)\n",
      "y train shape (2020,), y test shape (18183,)\n"
     ]
    }
   ],
   "source": [
    "# Split data into train and test data\n",
    "x_train, x_test, y_train, y_test = train_test_split(X_stemmed, Y, train_size = 0.1, random_state = 42)\n",
    "print(f'x train shape {x_train.shape}, x test shape {x_test.shape}')\n",
    "print(f'y train shape {y_train.shape}, y test shape {y_test.shape}')"
   ]
  },
  {
   "cell_type": "markdown",
   "id": "675f1b58",
   "metadata": {
    "papermill": {
     "duration": 0.011085,
     "end_time": "2024-07-28T15:11:12.457620",
     "exception": false,
     "start_time": "2024-07-28T15:11:12.446535",
     "status": "completed"
    },
    "tags": []
   },
   "source": [
    "## Vectorize content into numerical values using TfidfVectorizer\n",
    "\n",
    "**TfidfVectorizer** is a class provided by the scikit-learn library in Python, used for text feature extraction and transformation. It converts a collection of raw text documents into a matrix of TF-IDF (Term Frequency-Inverse Document Frequency) features. This is a common step in text processing for machine learning and natural language processing tasks."
   ]
  },
  {
   "cell_type": "code",
   "execution_count": 22,
   "id": "2e9b17c1",
   "metadata": {
    "execution": {
     "iopub.execute_input": "2024-07-28T15:11:12.481950Z",
     "iopub.status.busy": "2024-07-28T15:11:12.481168Z",
     "iopub.status.idle": "2024-07-28T15:11:19.506371Z",
     "shell.execute_reply": "2024-07-28T15:11:19.505200Z"
    },
    "papermill": {
     "duration": 7.039997,
     "end_time": "2024-07-28T15:11:19.508933",
     "exception": false,
     "start_time": "2024-07-28T15:11:12.468936",
     "status": "completed"
    },
    "tags": []
   },
   "outputs": [],
   "source": [
    "# Create vectorizer \n",
    "vectorizer = TfidfVectorizer()\n",
    "\n",
    "# Fit and transform data\n",
    "X_train_vectorized = vectorizer.fit_transform(x_train)\n",
    "X_test_vectorized = vectorizer.transform(x_test)"
   ]
  },
  {
   "cell_type": "code",
   "execution_count": 23,
   "id": "69b66d38",
   "metadata": {
    "execution": {
     "iopub.execute_input": "2024-07-28T15:11:19.533590Z",
     "iopub.status.busy": "2024-07-28T15:11:19.533231Z",
     "iopub.status.idle": "2024-07-28T15:11:19.547036Z",
     "shell.execute_reply": "2024-07-28T15:11:19.545537Z"
    },
    "papermill": {
     "duration": 0.029199,
     "end_time": "2024-07-28T15:11:19.549615",
     "exception": false,
     "start_time": "2024-07-28T15:11:19.520416",
     "status": "completed"
    },
    "tags": []
   },
   "outputs": [
    {
     "name": "stdout",
     "output_type": "stream",
     "text": [
      "  (0, 29732)\t0.05652606227400702\n",
      "  (0, 30740)\t0.02001660301536329\n",
      "  (0, 12636)\t0.05652606227400702\n",
      "  (0, 8745)\t0.04950299726217246\n",
      "  (0, 10865)\t0.017378545120706784\n",
      "  (0, 6682)\t0.050117261891724295\n",
      "  (0, 15680)\t0.026521621104240424\n",
      "  (0, 12908)\t0.021020358419142855\n",
      "  (0, 12626)\t0.030358382362725148\n",
      "  (0, 1655)\t0.035702115287148416\n",
      "  (0, 14591)\t0.05414152905136338\n",
      "  (0, 12328)\t0.036045148212438385\n",
      "  (0, 26331)\t0.06563221713032939\n",
      "  (0, 32044)\t0.06227140631349003\n",
      "  (0, 24955)\t0.0321932866198929\n",
      "  (0, 9645)\t0.02525447930288972\n",
      "  (0, 22931)\t0.027973849140081507\n",
      "  (0, 11660)\t0.019320745805123378\n",
      "  (0, 22189)\t0.03786560129397105\n",
      "  (0, 19042)\t0.040396842405850085\n",
      "  (0, 7960)\t0.029520418956435902\n",
      "  (0, 4465)\t0.03090509340438716\n",
      "  (0, 23735)\t0.03226696514372343\n",
      "  (0, 17104)\t0.013107666840340648\n",
      "  (0, 12024)\t0.015419170697579428\n",
      "  :\t:\n",
      "  (2019, 14132)\t0.04467944660294298\n",
      "  (2019, 969)\t0.03135110836205381\n",
      "  (2019, 28235)\t0.14353177521081026\n",
      "  (2019, 25789)\t0.01813492947853306\n",
      "  (2019, 23632)\t0.05690245722202708\n",
      "  (2019, 24795)\t0.022725425988700133\n",
      "  (2019, 22629)\t0.02865519610844079\n",
      "  (2019, 14395)\t0.047239675457998426\n",
      "  (2019, 20225)\t0.13143001436967092\n",
      "  (2019, 5669)\t0.04239769966161528\n",
      "  (2019, 26195)\t0.03675337745737457\n",
      "  (2019, 33078)\t0.023453694020832413\n",
      "  (2019, 13711)\t0.03382872571895039\n",
      "  (2019, 33396)\t0.019737009969361643\n",
      "  (2019, 3957)\t0.03545966891594667\n",
      "  (2019, 13260)\t0.054342431286025575\n",
      "  (2019, 14083)\t0.036236406681856397\n",
      "  (2019, 3737)\t0.05429375417026021\n",
      "  (2019, 26054)\t0.02136083515684945\n",
      "  (2019, 13812)\t0.03214327785881474\n",
      "  (2019, 22170)\t0.019659502403795708\n",
      "  (2019, 22188)\t0.03553917025882723\n",
      "  (2019, 194)\t0.026519892262010666\n",
      "  (2019, 20101)\t0.052432077559011726\n",
      "  (2019, 29967)\t0.017741219261598336\n"
     ]
    }
   ],
   "source": [
    "# Show input data after the vectorization process\n",
    "print(X_train_vectorized)"
   ]
  },
  {
   "cell_type": "markdown",
   "id": "7e503123",
   "metadata": {
    "papermill": {
     "duration": 0.011067,
     "end_time": "2024-07-28T15:11:19.572276",
     "exception": false,
     "start_time": "2024-07-28T15:11:19.561209",
     "status": "completed"
    },
    "tags": []
   },
   "source": [
    "# Modeling"
   ]
  },
  {
   "cell_type": "code",
   "execution_count": 24,
   "id": "aae4a81b",
   "metadata": {
    "execution": {
     "iopub.execute_input": "2024-07-28T15:11:19.596455Z",
     "iopub.status.busy": "2024-07-28T15:11:19.596083Z",
     "iopub.status.idle": "2024-07-28T15:11:19.603751Z",
     "shell.execute_reply": "2024-07-28T15:11:19.602764Z"
    },
    "papermill": {
     "duration": 0.02239,
     "end_time": "2024-07-28T15:11:19.605973",
     "exception": false,
     "start_time": "2024-07-28T15:11:19.583583",
     "status": "completed"
    },
    "tags": []
   },
   "outputs": [],
   "source": [
    "# Function to perform the model functionalities\n",
    "def fit_predict(model, x_train, y_train, x_test, y_test):\n",
    "    classifier = model\n",
    "    \n",
    "    # Make model fit data\n",
    "    classifier.fit(x_train, y_train)\n",
    "    \n",
    "    # Get Score on train and test data\n",
    "    train_score = classifier.score(x_train, y_train)\n",
    "    test_score = classifier.score(x_test, y_test)\n",
    "    print(f'train score is {train_score}, test score is {test_score}')\n",
    "    \n",
    "    # Make model predict on test data\n",
    "    test_prediction = classifier.predict(x_test)\n",
    "    # Get accuracy, confusion matrix and classification report\n",
    "    accuracy = accuracy_score(y_test, test_prediction) \n",
    "    cf_matrix = confusion_matrix(y_test, test_prediction)\n",
    "    cl_report = classification_report(y_test, test_prediction)\n",
    "    \n",
    "    # Plot confusion matrix\n",
    "    plt.figure(figsize=(7,7))\n",
    "    sns.heatmap(cf_matrix, annot=True, cmap='Blues', fmt='g')\n",
    "    plt.xlabel('Predicted')\n",
    "    plt.ylabel('Actual')\n",
    "    plt.title('Confusion Matrix')\n",
    "    plt.show()\n",
    "    \n",
    "    # Show accuracy and classification report\n",
    "    print(f'accuracy: {accuracy}\\nclassification report:\\n{cl_report}', '\\n\\n')\n",
    "    \n",
    "    return classifier"
   ]
  },
  {
   "cell_type": "code",
   "execution_count": 25,
   "id": "4debb08b",
   "metadata": {
    "execution": {
     "iopub.execute_input": "2024-07-28T15:11:19.631561Z",
     "iopub.status.busy": "2024-07-28T15:11:19.631188Z",
     "iopub.status.idle": "2024-07-28T15:11:19.636536Z",
     "shell.execute_reply": "2024-07-28T15:11:19.635540Z"
    },
    "papermill": {
     "duration": 0.020689,
     "end_time": "2024-07-28T15:11:19.639013",
     "exception": false,
     "start_time": "2024-07-28T15:11:19.618324",
     "status": "completed"
    },
    "tags": []
   },
   "outputs": [],
   "source": [
    "# Put all required models that can fit this problem\n",
    "models = {\n",
    "    'LogisticRegression': LogisticRegression(),\n",
    "    'RandomForestClassifier': RandomForestClassifier(),\n",
    "    'LinearSVC': LinearSVC(),\n",
    "    'DecisionTreeClassifier': DecisionTreeClassifier(),\n",
    "    'GradientBoostingClassifier': GradientBoostingClassifier()   \n",
    "}"
   ]
  },
  {
   "cell_type": "code",
   "execution_count": 26,
   "id": "c24c7227",
   "metadata": {
    "execution": {
     "iopub.execute_input": "2024-07-28T15:11:19.663740Z",
     "iopub.status.busy": "2024-07-28T15:11:19.663350Z",
     "iopub.status.idle": "2024-07-28T15:11:51.141068Z",
     "shell.execute_reply": "2024-07-28T15:11:51.139852Z"
    },
    "papermill": {
     "duration": 31.49268,
     "end_time": "2024-07-28T15:11:51.143318",
     "exception": false,
     "start_time": "2024-07-28T15:11:19.650638",
     "status": "completed"
    },
    "tags": []
   },
   "outputs": [
    {
     "name": "stdout",
     "output_type": "stream",
     "text": [
      "LogisticRegression:\n",
      "\n",
      "train score is 0.9806930693069307, test score is 0.9134906231094979\n"
     ]
    },
    {
     "data": {
      "image/png": "[encoded data removed]",
      "text/plain": [
       "<Figure size 700x700 with 2 Axes>"
      ]
     },
     "metadata": {},
     "output_type": "display_data"
    },
    {
     "name": "stdout",
     "output_type": "stream",
     "text": [
      "accuracy: 0.9134906231094979\n",
      "classification report:\n",
      "              precision    recall  f1-score   support\n",
      "\n",
      "           0       0.91      0.92      0.92      9345\n",
      "           1       0.92      0.90      0.91      8838\n",
      "\n",
      "    accuracy                           0.91     18183\n",
      "   macro avg       0.91      0.91      0.91     18183\n",
      "weighted avg       0.91      0.91      0.91     18183\n",
      " \n",
      "\n",
      "\n",
      "RandomForestClassifier:\n",
      "\n",
      "train score is 1.0, test score is 0.9004564703294285\n"
     ]
    },
    {
     "data": {
      "image/png": "[encoded data removed]",
      "text/plain": [
       "<Figure size 700x700 with 2 Axes>"
      ]
     },
     "metadata": {},
     "output_type": "display_data"
    },
    {
     "name": "stdout",
     "output_type": "stream",
     "text": [
      "accuracy: 0.9004564703294285\n",
      "classification report:\n",
      "              precision    recall  f1-score   support\n",
      "\n",
      "           0       0.87      0.95      0.91      9345\n",
      "           1       0.94      0.85      0.89      8838\n",
      "\n",
      "    accuracy                           0.90     18183\n",
      "   macro avg       0.90      0.90      0.90     18183\n",
      "weighted avg       0.90      0.90      0.90     18183\n",
      " \n",
      "\n",
      "\n",
      "LinearSVC:\n",
      "\n",
      "train score is 1.0, test score is 0.9284496507726998\n"
     ]
    },
    {
     "data": {
      "image/png": "[encoded data removed]",
      "text/plain": [
       "<Figure size 700x700 with 2 Axes>"
      ]
     },
     "metadata": {},
     "output_type": "display_data"
    },
    {
     "name": "stdout",
     "output_type": "stream",
     "text": [
      "accuracy: 0.9284496507726998\n",
      "classification report:\n",
      "              precision    recall  f1-score   support\n",
      "\n",
      "           0       0.92      0.94      0.93      9345\n",
      "           1       0.93      0.92      0.93      8838\n",
      "\n",
      "    accuracy                           0.93     18183\n",
      "   macro avg       0.93      0.93      0.93     18183\n",
      "weighted avg       0.93      0.93      0.93     18183\n",
      " \n",
      "\n",
      "\n",
      "DecisionTreeClassifier:\n",
      "\n",
      "train score is 1.0, test score is 0.8973766705164165\n"
     ]
    },
    {
     "data": {
      "image/png": "[encoded data removed]",
      "text/plain": [
       "<Figure size 700x700 with 2 Axes>"
      ]
     },
     "metadata": {},
     "output_type": "display_data"
    },
    {
     "name": "stdout",
     "output_type": "stream",
     "text": [
      "accuracy: 0.8973766705164165\n",
      "classification report:\n",
      "              precision    recall  f1-score   support\n",
      "\n",
      "           0       0.89      0.91      0.90      9345\n",
      "           1       0.90      0.89      0.89      8838\n",
      "\n",
      "    accuracy                           0.90     18183\n",
      "   macro avg       0.90      0.90      0.90     18183\n",
      "weighted avg       0.90      0.90      0.90     18183\n",
      " \n",
      "\n",
      "\n",
      "GradientBoostingClassifier:\n",
      "\n",
      "train score is 0.9841584158415841, test score is 0.9349392289501183\n"
     ]
    },
    {
     "data": {
      "image/png": "[encoded data removed]",
      "text/plain": [
       "<Figure size 700x700 with 2 Axes>"
      ]
     },
     "metadata": {},
     "output_type": "display_data"
    },
    {
     "name": "stdout",
     "output_type": "stream",
     "text": [
      "accuracy: 0.9349392289501183\n",
      "classification report:\n",
      "              precision    recall  f1-score   support\n",
      "\n",
      "           0       0.94      0.93      0.94      9345\n",
      "           1       0.93      0.94      0.93      8838\n",
      "\n",
      "    accuracy                           0.93     18183\n",
      "   macro avg       0.93      0.94      0.93     18183\n",
      "weighted avg       0.93      0.93      0.93     18183\n",
      " \n",
      "\n",
      "\n"
     ]
    }
   ],
   "source": [
    "trained_models = {}\n",
    "for name, model in models.items():\n",
    "    print(f'{name}:\\n')\n",
    "    model = fit_predict(model, X_train_vectorized, y_train, X_test_vectorized, y_test)\n",
    "    trained_models[name] = deepcopy(model)"
   ]
  },
  {
   "cell_type": "markdown",
   "id": "3b2d6255",
   "metadata": {
    "papermill": {
     "duration": 0.014823,
     "end_time": "2024-07-28T15:11:51.172795",
     "exception": false,
     "start_time": "2024-07-28T15:11:51.157972",
     "status": "completed"
    },
    "tags": []
   },
   "source": [
    "# Save best model\n",
    "\n",
    "Based on the previous results, the Gradient Boosting Classifier model is the best one on the test data with accuracy 94%."
   ]
  },
  {
   "cell_type": "code",
   "execution_count": 27,
   "id": "47b174c5",
   "metadata": {
    "execution": {
     "iopub.execute_input": "2024-07-28T15:11:51.205052Z",
     "iopub.status.busy": "2024-07-28T15:11:51.204416Z",
     "iopub.status.idle": "2024-07-28T15:11:51.215640Z",
     "shell.execute_reply": "2024-07-28T15:11:51.214572Z"
    },
    "papermill": {
     "duration": 0.03137,
     "end_time": "2024-07-28T15:11:51.218659",
     "exception": false,
     "start_time": "2024-07-28T15:11:51.187289",
     "status": "completed"
    },
    "tags": []
   },
   "outputs": [
    {
     "data": {
      "text/html": [
       "<style>#sk-container-id-1 {color: black;background-color: white;}#sk-container-id-1 pre{padding: 0;}#sk-container-id-1 div.sk-toggleable {background-color: white;}#sk-container-id-1 label.sk-toggleable__label {cursor: pointer;display: block;width: 100%;margin-bottom: 0;padding: 0.3em;box-sizing: border-box;text-align: center;}#sk-container-id-1 label.sk-toggleable__label-arrow:before {content: \"▸\";float: left;margin-right: 0.25em;color: #696969;}#sk-container-id-1 label.sk-toggleable__label-arrow:hover:before {color: black;}#sk-container-id-1 div.sk-estimator:hover label.sk-toggleable__label-arrow:before {color: black;}#sk-container-id-1 div.sk-toggleable__content {max-height: 0;max-width: 0;overflow: hidden;text-align: left;background-color: #f0f8ff;}#sk-container-id-1 div.sk-toggleable__content pre {margin: 0.2em;color: black;border-radius: 0.25em;background-color: #f0f8ff;}#sk-container-id-1 input.sk-toggleable__control:checked~div.sk-toggleable__content {max-height: 200px;max-width: 100%;overflow: auto;}#sk-container-id-1 input.sk-toggleable__control:checked~label.sk-toggleable__label-arrow:before {content: \"▾\";}#sk-container-id-1 div.sk-estimator input.sk-toggleable__control:checked~label.sk-toggleable__label {background-color: #d4ebff;}#sk-container-id-1 div.sk-label input.sk-toggleable__control:checked~label.sk-toggleable__label {background-color: #d4ebff;}#sk-container-id-1 input.sk-hidden--visually {border: 0;clip: rect(1px 1px 1px 1px);clip: rect(1px, 1px, 1px, 1px);height: 1px;margin: -1px;overflow: hidden;padding: 0;position: absolute;width: 1px;}#sk-container-id-1 div.sk-estimator {font-family: monospace;background-color: #f0f8ff;border: 1px dotted black;border-radius: 0.25em;box-sizing: border-box;margin-bottom: 0.5em;}#sk-container-id-1 div.sk-estimator:hover {background-color: #d4ebff;}#sk-container-id-1 div.sk-parallel-item::after {content: \"\";width: 100%;border-bottom: 1px solid gray;flex-grow: 1;}#sk-container-id-1 div.sk-label:hover label.sk-toggleable__label {background-color: #d4ebff;}#sk-container-id-1 div.sk-serial::before {content: \"\";position: absolute;border-left: 1px solid gray;box-sizing: border-box;top: 0;bottom: 0;left: 50%;z-index: 0;}#sk-container-id-1 div.sk-serial {display: flex;flex-direction: column;align-items: center;background-color: white;padding-right: 0.2em;padding-left: 0.2em;position: relative;}#sk-container-id-1 div.sk-item {position: relative;z-index: 1;}#sk-container-id-1 div.sk-parallel {display: flex;align-items: stretch;justify-content: center;background-color: white;position: relative;}#sk-container-id-1 div.sk-item::before, #sk-container-id-1 div.sk-parallel-item::before {content: \"\";position: absolute;border-left: 1px solid gray;box-sizing: border-box;top: 0;bottom: 0;left: 50%;z-index: -1;}#sk-container-id-1 div.sk-parallel-item {display: flex;flex-direction: column;z-index: 1;position: relative;background-color: white;}#sk-container-id-1 div.sk-parallel-item:first-child::after {align-self: flex-end;width: 50%;}#sk-container-id-1 div.sk-parallel-item:last-child::after {align-self: flex-start;width: 50%;}#sk-container-id-1 div.sk-parallel-item:only-child::after {width: 0;}#sk-container-id-1 div.sk-dashed-wrapped {border: 1px dashed gray;margin: 0 0.4em 0.5em 0.4em;box-sizing: border-box;padding-bottom: 0.4em;background-color: white;}#sk-container-id-1 div.sk-label label {font-family: monospace;font-weight: bold;display: inline-block;line-height: 1.2em;}#sk-container-id-1 div.sk-label-container {text-align: center;}#sk-container-id-1 div.sk-container {/* jupyter's `normalize.less` sets `[hidden] { display: none; }` but bootstrap.min.css set `[hidden] { display: none !important; }` so we also need the `!important` here to be able to override the default hidden behavior on the sphinx rendered scikit-learn.org. See: https://github.com/scikit-learn/scikit-learn/issues/21755 */display: inline-block !important;position: relative;}#sk-container-id-1 div.sk-text-repr-fallback {display: none;}</style><div id=\"sk-container-id-1\" class=\"sk-top-container\"><div class=\"sk-text-repr-fallback\"><pre>GradientBoostingClassifier()</pre><b>In a Jupyter environment, please rerun this cell to show the HTML representation or trust the notebook. <br />On GitHub, the HTML representation is unable to render, please try loading this page with nbviewer.org.</b></div><div class=\"sk-container\" hidden><div class=\"sk-item\"><div class=\"sk-estimator sk-toggleable\"><input class=\"sk-toggleable__control sk-hidden--visually\" id=\"sk-estimator-id-1\" type=\"checkbox\" checked><label for=\"sk-estimator-id-1\" class=\"sk-toggleable__label sk-toggleable__label-arrow\">GradientBoostingClassifier</label><div class=\"sk-toggleable__content\"><pre>GradientBoostingClassifier()</pre></div></div></div></div></div>"
      ],
      "text/plain": [
       "GradientBoostingClassifier()"
      ]
     },
     "execution_count": 27,
     "metadata": {},
     "output_type": "execute_result"
    }
   ],
   "source": [
    "# Access Gradient Boosting Classifier model\n",
    "GradientBoostingClassifier_model = trained_models['GradientBoostingClassifier']\n",
    "GradientBoostingClassifier_model"
   ]
  },
  {
   "cell_type": "code",
   "execution_count": 28,
   "id": "028323db",
   "metadata": {
    "execution": {
     "iopub.execute_input": "2024-07-28T15:11:51.259054Z",
     "iopub.status.busy": "2024-07-28T15:11:51.258332Z",
     "iopub.status.idle": "2024-07-28T15:11:51.512005Z",
     "shell.execute_reply": "2024-07-28T15:11:51.510969Z"
    },
    "papermill": {
     "duration": 0.277397,
     "end_time": "2024-07-28T15:11:51.514361",
     "exception": false,
     "start_time": "2024-07-28T15:11:51.236964",
     "status": "completed"
    },
    "tags": []
   },
   "outputs": [
    {
     "data": {
      "text/plain": [
       "['TfidfVectorizer.sav']"
      ]
     },
     "execution_count": 28,
     "metadata": {},
     "output_type": "execute_result"
    }
   ],
   "source": [
    "# File paths\n",
    "model_path = 'Prepare_model\\GradientBoostingClassifier_model.sav'\n",
    "vectorizer_path = 'Prepare_model\\TfidfVectorizer.sav'\n",
    "\n",
    "# Save the Gradient Boosting Classifier model using joblib if not already saved\n",
    "if not os.path.exists(model_path):\n",
    "    joblib.dump(GradientBoostingClassifier_model, model_path)\n",
    "\n",
    "# Save the TfidfVectorizer using joblib if not already saved\n",
    "if not os.path.exists(vectorizer_path):\n",
    "    joblib.dump(vectorizer, vectorizer_path)"
   ]
  },
  {
   "attachments": {
    "6d19e3b4-ec4e-448c-bd13-f09f23dc14e4.png": {
     "image/png": "[encoded data removed]"
    }
   },
   "cell_type": "markdown",
   "id": "b358872f",
   "metadata": {
    "papermill": {
     "duration": 0.014999,
     "end_time": "2024-07-28T15:11:51.544513",
     "exception": false,
     "start_time": "2024-07-28T15:11:51.529514",
     "status": "completed"
    },
    "tags": []
   },
   "source": [
    "![download.png](attachment:6d19e3b4-ec4e-448c-bd13-f09f23dc14e4.png)"
   ]
  }
 ],
 "metadata": {
  "kaggle": {
   "accelerator": "none",
   "dataSources": [
    {
     "databundleVersionId": 109592,
     "sourceId": 8317,
     "sourceType": "competition"
    },
    {
     "datasetId": 5296087,
     "sourceId": 8805864,
     "sourceType": "datasetVersion"
    }
   ],
   "dockerImageVersionId": 30746,
   "isGpuEnabled": false,
   "isInternetEnabled": true,
   "language": "python",
   "sourceType": "notebook"
  },
  "kernelspec": {
   "display_name": "Python 3",
   "language": "python",
   "name": "python3"
  },
  "language_info": {
   "codemirror_mode": {
    "name": "ipython",
    "version": 3
   },
   "file_extension": ".py",
   "mimetype": "text/x-python",
   "name": "python",
   "nbconvert_exporter": "python",
   "pygments_lexer": "ipython3",
   "version": "3.10.13"
  },
  "papermill": {
   "default_parameters": {},
   "duration": 299.861406,
   "end_time": "2024-07-28T15:11:52.282197",
   "environment_variables": {},
   "exception": null,
   "input_path": "__notebook__.ipynb",
   "output_path": "__notebook__.ipynb",
   "parameters": {},
   "start_time": "2024-07-28T15:06:52.420791",
   "version": "2.5.0"
  }
 },
 "nbformat": 4,
 "nbformat_minor": 5
}
